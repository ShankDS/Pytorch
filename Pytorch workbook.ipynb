{
 "cells": [
  {
   "cell_type": "code",
   "execution_count": 1,
   "id": "bbdee9fb",
   "metadata": {},
   "outputs": [],
   "source": [
    "import torch\n"
   ]
  },
  {
   "cell_type": "code",
   "execution_count": 4,
   "id": "ab26544e",
   "metadata": {},
   "outputs": [],
   "source": [
    "a=torch.ones(5)"
   ]
  },
  {
   "cell_type": "code",
   "execution_count": 5,
   "id": "bbb28327",
   "metadata": {},
   "outputs": [
    {
     "data": {
      "text/plain": [
       "tensor([1., 1., 1., 1., 1.])"
      ]
     },
     "execution_count": 5,
     "metadata": {},
     "output_type": "execute_result"
    }
   ],
   "source": [
    "a"
   ]
  },
  {
   "cell_type": "code",
   "execution_count": 6,
   "id": "239b1870",
   "metadata": {},
   "outputs": [
    {
     "data": {
      "text/plain": [
       "tensor([1., 2., 1., 1., 1.])"
      ]
     },
     "execution_count": 6,
     "metadata": {},
     "output_type": "execute_result"
    }
   ],
   "source": [
    "a[1]=2.0\n",
    "a"
   ]
  },
  {
   "cell_type": "code",
   "execution_count": 7,
   "id": "317659a4",
   "metadata": {},
   "outputs": [
    {
     "data": {
      "text/plain": [
       "tensor([0., 0., 0., 0., 0., 0.])"
      ]
     },
     "execution_count": 7,
     "metadata": {},
     "output_type": "execute_result"
    }
   ],
   "source": [
    "#Creating tensor with 0\n",
    "points=torch.zeros(6)\n",
    "points"
   ]
  },
  {
   "cell_type": "code",
   "execution_count": 9,
   "id": "f52fc430",
   "metadata": {},
   "outputs": [
    {
     "data": {
      "text/plain": [
       "tensor([3., 1., 2., 3., 4., 5.])"
      ]
     },
     "execution_count": 9,
     "metadata": {},
     "output_type": "execute_result"
    }
   ],
   "source": [
    "points[1]=1.0\n",
    "points[2]=2.0\n",
    "points[3]=3.0\n",
    "points[4]=4.0\n",
    "points[5]=5.0\n",
    "points[0]=3.0\n",
    "points"
   ]
  },
  {
   "cell_type": "code",
   "execution_count": 14,
   "id": "14c4c85c",
   "metadata": {},
   "outputs": [
    {
     "data": {
      "text/plain": [
       "(1.0, 4.0)"
      ]
     },
     "execution_count": 14,
     "metadata": {},
     "output_type": "execute_result"
    }
   ],
   "source": [
    "float(points[1]),float (points[4])"
   ]
  },
  {
   "cell_type": "code",
   "execution_count": 16,
   "id": "8ceedc27",
   "metadata": {},
   "outputs": [
    {
     "data": {
      "text/plain": [
       "torch.Size([6])"
      ]
     },
     "execution_count": 16,
     "metadata": {},
     "output_type": "execute_result"
    }
   ],
   "source": [
    "points.shape"
   ]
  },
  {
   "cell_type": "code",
   "execution_count": 17,
   "id": "b2ad57f9",
   "metadata": {},
   "outputs": [
    {
     "data": {
      "text/plain": [
       "tensor([[0., 0.],\n",
       "        [0., 0.],\n",
       "        [0., 0.]])"
      ]
     },
     "execution_count": 17,
     "metadata": {},
     "output_type": "execute_result"
    }
   ],
   "source": [
    "#Create tensor with predefine shape \n",
    "points = torch.zeros(3, 2)\n",
    "points"
   ]
  },
  {
   "cell_type": "code",
   "execution_count": 18,
   "id": "37e63531",
   "metadata": {},
   "outputs": [
    {
     "data": {
      "text/plain": [
       "tensor([[4., 1.],\n",
       "        [5., 3.],\n",
       "        [2., 1.]])"
      ]
     },
     "execution_count": 18,
     "metadata": {},
     "output_type": "execute_result"
    }
   ],
   "source": [
    "points = torch.tensor([[4.0, 1.0], [5.0, 3.0], [2.0, 1.0]])\n",
    "points"
   ]
  },
  {
   "cell_type": "markdown",
   "id": "f8cbef28",
   "metadata": {},
   "source": [
    "Acessing tensor "
   ]
  },
  {
   "cell_type": "code",
   "execution_count": 19,
   "id": "80a4c386",
   "metadata": {},
   "outputs": [
    {
     "data": {
      "text/plain": [
       "tensor(1.)"
      ]
     },
     "execution_count": 19,
     "metadata": {},
     "output_type": "execute_result"
    }
   ],
   "source": [
    "points[0, 1]"
   ]
  },
  {
   "cell_type": "code",
   "execution_count": 20,
   "id": "09ffa6a7",
   "metadata": {},
   "outputs": [
    {
     "data": {
      "text/plain": [
       "tensor(1.)"
      ]
     },
     "execution_count": 20,
     "metadata": {},
     "output_type": "execute_result"
    }
   ],
   "source": [
    "points[2, 1]"
   ]
  },
  {
   "cell_type": "code",
   "execution_count": 22,
   "id": "930fd512",
   "metadata": {},
   "outputs": [
    {
     "data": {
      "text/plain": [
       "[0, 1, 2, 3, 4, 5]"
      ]
     },
     "execution_count": 22,
     "metadata": {},
     "output_type": "execute_result"
    }
   ],
   "source": [
    "some_list = list(range(6))\n",
    "some_list[:]"
   ]
  },
  {
   "cell_type": "code",
   "execution_count": 23,
   "id": "a05ece1c",
   "metadata": {},
   "outputs": [
    {
     "data": {
      "text/plain": [
       "[1, 2, 3]"
      ]
     },
     "execution_count": 23,
     "metadata": {},
     "output_type": "execute_result"
    }
   ],
   "source": [
    "some_list[1:4]"
   ]
  },
  {
   "cell_type": "code",
   "execution_count": 24,
   "id": "ac7b9452",
   "metadata": {},
   "outputs": [
    {
     "data": {
      "text/plain": [
       "[1, 2, 3, 4, 5]"
      ]
     },
     "execution_count": 24,
     "metadata": {},
     "output_type": "execute_result"
    }
   ],
   "source": [
    "some_list[1:]\n"
   ]
  },
  {
   "cell_type": "code",
   "execution_count": 25,
   "id": "8bfd36bc",
   "metadata": {},
   "outputs": [
    {
     "data": {
      "text/plain": [
       "[0, 1, 2, 3]"
      ]
     },
     "execution_count": 25,
     "metadata": {},
     "output_type": "execute_result"
    }
   ],
   "source": [
    "some_list[:4]\n"
   ]
  },
  {
   "cell_type": "code",
   "execution_count": 26,
   "id": "9cd52e31",
   "metadata": {},
   "outputs": [
    {
     "data": {
      "text/plain": [
       "[0, 1, 2, 3, 4]"
      ]
     },
     "execution_count": 26,
     "metadata": {},
     "output_type": "execute_result"
    }
   ],
   "source": [
    "some_list[:-1]\n"
   ]
  },
  {
   "cell_type": "code",
   "execution_count": 27,
   "id": "5799c5f4",
   "metadata": {},
   "outputs": [
    {
     "data": {
      "text/plain": [
       "[1, 3]"
      ]
     },
     "execution_count": 27,
     "metadata": {},
     "output_type": "execute_result"
    }
   ],
   "source": [
    "some_list[1:4:2]"
   ]
  },
  {
   "cell_type": "markdown",
   "id": "76953363",
   "metadata": {},
   "source": [
    "Named tensors"
   ]
  },
  {
   "cell_type": "code",
   "execution_count": 36,
   "id": "6671cb60",
   "metadata": {},
   "outputs": [
    {
     "data": {
      "text/plain": [
       "tensor([[[-0.3982,  0.6803, -0.6684, -1.1933, -1.8306],\n",
       "         [-0.1617,  0.5965, -1.2948,  0.0604,  0.7885],\n",
       "         [-0.5911, -0.5506,  0.3423, -0.2250, -0.7396],\n",
       "         [-0.5551,  1.5017,  0.4166,  0.3634, -0.5486],\n",
       "         [ 0.6199, -1.7311,  0.0454,  0.6336, -0.6385]],\n",
       "\n",
       "        [[ 1.1623, -1.0575,  0.4598,  2.2026,  1.2009],\n",
       "         [-1.0490, -1.3834,  1.7208,  0.2106, -1.3646],\n",
       "         [ 0.7187,  1.1127, -0.2823,  0.1494, -0.4399],\n",
       "         [-0.4236,  0.8370,  0.3204,  1.1042, -1.7961],\n",
       "         [ 1.6516,  0.4225,  0.2038, -1.4790,  0.0083]],\n",
       "\n",
       "        [[ 1.0521,  0.7328, -0.0850,  0.0987, -0.9533],\n",
       "         [-1.3627,  0.4278,  0.2168, -0.6823,  0.1398],\n",
       "         [ 0.2998, -0.0838,  0.7816,  0.6571,  0.6424],\n",
       "         [-1.5332, -0.1050, -1.6041,  0.4899, -2.2500],\n",
       "         [-1.1209,  0.9421, -0.1568, -0.3256, -0.0629]]])"
      ]
     },
     "execution_count": 36,
     "metadata": {},
     "output_type": "execute_result"
    }
   ],
   "source": [
    "img_t = torch.randn(3, 5, 5) # shape [channels, rows, columns]\n",
    "weights = torch.tensor([0.2126, 0.7152, 0.0722])\n",
    "img_t"
   ]
  },
  {
   "cell_type": "code",
   "execution_count": 37,
   "id": "b6b11132",
   "metadata": {},
   "outputs": [
    {
     "data": {
      "text/plain": [
       "tensor([[[[-0.4201,  0.4800,  0.8944,  0.0832,  1.8767],\n",
       "          [-1.4374, -0.5281, -1.0490, -0.5498, -1.8457],\n",
       "          [ 0.1728,  0.6413,  1.3517,  2.3117, -0.4079],\n",
       "          [-2.2345,  0.2157, -0.6212,  0.6150, -0.9566],\n",
       "          [ 0.3622,  1.6547, -1.3489, -0.3850, -0.0443]],\n",
       "\n",
       "         [[-0.6054, -1.4725,  1.1943, -0.6072, -0.7960],\n",
       "          [-0.1490,  0.9209,  0.9105, -0.2601, -2.0527],\n",
       "          [ 1.3756,  1.3283, -1.5880, -0.5992,  0.8013],\n",
       "          [-0.9476, -0.3378, -0.4515,  0.2412, -0.0855],\n",
       "          [ 1.3425, -0.6011,  0.5640,  0.0587,  0.2117]],\n",
       "\n",
       "         [[ 0.5393,  0.1771, -0.9072,  0.2859, -0.0736],\n",
       "          [-0.2251,  0.1938, -0.6311,  0.4203,  0.5437],\n",
       "          [ 1.3949, -1.1504, -0.5260, -0.2237,  0.8509],\n",
       "          [-0.7582, -0.9514, -3.0229, -0.9410,  1.0793],\n",
       "          [-1.9510, -0.6041, -1.1601,  1.2552, -0.7456]]],\n",
       "\n",
       "\n",
       "        [[[-2.2704,  0.2202, -1.0472, -0.0100,  0.1927],\n",
       "          [-0.9774,  0.3950, -1.0239,  0.4068,  0.5492],\n",
       "          [ 1.0735, -1.3669,  0.4082, -2.6557, -0.5279],\n",
       "          [ 0.6298,  0.3251, -1.1398, -0.0462,  1.6494],\n",
       "          [ 0.3425,  0.1492,  0.1548,  1.7037, -1.2005]],\n",
       "\n",
       "         [[ 0.1027, -0.4313, -0.4423, -0.8871, -1.0467],\n",
       "          [-0.2631, -1.0235,  0.1765, -0.1833, -0.3223],\n",
       "          [-0.3884, -0.8429, -0.6685, -1.3040, -1.2145],\n",
       "          [-0.2961, -1.4388,  1.6421,  0.4178, -1.9284],\n",
       "          [ 1.8205,  0.9875,  0.3928, -0.2381, -2.1962]],\n",
       "\n",
       "         [[-0.2888,  0.4517, -0.1002, -1.0645,  0.3342],\n",
       "          [ 3.2026, -0.1975, -0.3623,  1.4388,  1.1633],\n",
       "          [ 1.4718,  0.3648,  0.0056,  0.4711,  1.4902],\n",
       "          [-0.9700, -1.5986, -0.0627, -0.6990, -0.5384],\n",
       "          [ 0.3894,  0.2249, -0.1181, -0.8222, -1.2608]]]])"
      ]
     },
     "execution_count": 37,
     "metadata": {},
     "output_type": "execute_result"
    }
   ],
   "source": [
    "batch_t = torch.randn(2, 3, 5, 5) # shape [batch, channels, rows, columns]\n",
    "batch_t"
   ]
  },
  {
   "cell_type": "code",
   "execution_count": 38,
   "id": "17bc8a05",
   "metadata": {},
   "outputs": [
    {
     "data": {
      "text/plain": [
       "tensor([[ 0.6054,  0.1185, -0.0979,  0.3693, -0.5277],\n",
       "        [-0.8578, -0.1197,  0.2143, -0.1371, -0.1454],\n",
       "        [ 0.1425,  0.1594,  0.2805,  0.1938, -0.1791],\n",
       "        [-0.8373,  0.7446, -0.2890,  0.6525, -1.5316],\n",
       "        [ 0.3835, -0.1222,  0.0308, -0.3903, -0.2310]])"
      ]
     },
     "execution_count": 38,
     "metadata": {},
     "output_type": "execute_result"
    }
   ],
   "source": [
    "img_gray_naive = img_t.mean(-3)\n",
    "img_gray_naive"
   ]
  },
  {
   "cell_type": "code",
   "execution_count": 39,
   "id": "e12deaf6",
   "metadata": {},
   "outputs": [
    {
     "data": {
      "text/plain": [
       "tensor(-0.0628)"
      ]
     },
     "execution_count": 39,
     "metadata": {},
     "output_type": "execute_result"
    }
   ],
   "source": [
    "img_gray_naive = img_t.mean()\n",
    "img_gray_naive"
   ]
  },
  {
   "cell_type": "code",
   "execution_count": 40,
   "id": "13f5f64b",
   "metadata": {},
   "outputs": [
    {
     "data": {
      "text/plain": [
       "tensor([[-0.2172,  0.0993, -0.2318, -0.0722, -0.5938],\n",
       "        [ 0.4120, -0.0138,  0.4845,  0.4375, -0.4783],\n",
       "        [-0.5330,  0.3828, -0.1695,  0.0475, -0.4968]])"
      ]
     },
     "execution_count": 40,
     "metadata": {},
     "output_type": "execute_result"
    }
   ],
   "source": [
    "img_gray_naive = img_t.mean(-2)\n",
    "img_gray_naive"
   ]
  },
  {
   "cell_type": "code",
   "execution_count": 33,
   "id": "80239e66",
   "metadata": {},
   "outputs": [
    {
     "data": {
      "text/plain": [
       "tensor([[[-0.1817,  0.0783, -0.1890, -0.5406,  0.2374],\n",
       "         [-0.2001,  0.7336,  0.3456,  0.1863, -0.7563],\n",
       "         [-0.4294, -0.5256, -0.9469, -0.2321,  0.3895],\n",
       "         [-0.5930,  0.3926, -0.2949,  0.2414,  0.0287],\n",
       "         [-0.6395,  0.4135,  0.2032, -1.3848,  0.3770]],\n",
       "\n",
       "        [[-0.5020,  0.1503, -0.7597, -0.8051,  0.0642],\n",
       "         [ 0.4012,  0.9667, -0.5613, -0.5901,  0.5687],\n",
       "         [ 0.5061,  0.3599,  1.0513, -0.4424,  0.5113],\n",
       "         [ 0.2298,  0.1202,  0.7847,  0.6604,  1.1331],\n",
       "         [ 0.3862, -0.5985,  1.1520, -0.0155, -0.1612]]])"
      ]
     },
     "execution_count": 33,
     "metadata": {},
     "output_type": "execute_result"
    }
   ],
   "source": [
    "batch_gray_naive = batch_t.mean(-3)\n",
    "batch_gray_naive"
   ]
  },
  {
   "cell_type": "code",
   "execution_count": 41,
   "id": "67ba51a2",
   "metadata": {},
   "outputs": [
    {
     "data": {
      "text/plain": [
       "(torch.Size([3, 5]), torch.Size([2, 5, 5]))"
      ]
     },
     "execution_count": 41,
     "metadata": {},
     "output_type": "execute_result"
    }
   ],
   "source": [
    "img_gray_naive.shape, batch_gray_naive.shape"
   ]
  },
  {
   "cell_type": "markdown",
   "id": "7d23f4cb",
   "metadata": {},
   "source": [
    "Managing a tensor’s dtype attribute"
   ]
  },
  {
   "cell_type": "code",
   "execution_count": 42,
   "id": "584c24de",
   "metadata": {},
   "outputs": [
    {
     "data": {
      "text/plain": [
       "tensor([[1., 1.],\n",
       "        [1., 1.],\n",
       "        [1., 1.],\n",
       "        [1., 1.],\n",
       "        [1., 1.],\n",
       "        [1., 1.],\n",
       "        [1., 1.],\n",
       "        [1., 1.],\n",
       "        [1., 1.],\n",
       "        [1., 1.]], dtype=torch.float64)"
      ]
     },
     "execution_count": 42,
     "metadata": {},
     "output_type": "execute_result"
    }
   ],
   "source": [
    "double_points = torch.ones(10, 2, dtype=torch.double)\n",
    "double_points"
   ]
  },
  {
   "cell_type": "code",
   "execution_count": 43,
   "id": "340ea407",
   "metadata": {},
   "outputs": [
    {
     "data": {
      "text/plain": [
       "tensor([[1, 2],\n",
       "        [3, 4]], dtype=torch.int16)"
      ]
     },
     "execution_count": 43,
     "metadata": {},
     "output_type": "execute_result"
    }
   ],
   "source": [
    "short_points = torch.tensor([[1, 2], [3, 4]], dtype=torch.short)\n",
    "short_points"
   ]
  },
  {
   "cell_type": "code",
   "execution_count": 44,
   "id": "60e3e934",
   "metadata": {},
   "outputs": [
    {
     "data": {
      "text/plain": [
       "torch.int16"
      ]
     },
     "execution_count": 44,
     "metadata": {},
     "output_type": "execute_result"
    }
   ],
   "source": [
    "short_points.dtype"
   ]
  },
  {
   "cell_type": "markdown",
   "id": "3815777f",
   "metadata": {},
   "source": [
    "Tensor operations"
   ]
  },
  {
   "cell_type": "code",
   "execution_count": 46,
   "id": "b7056e22",
   "metadata": {},
   "outputs": [
    {
     "data": {
      "text/plain": [
       "tensor([[1., 1., 1.],\n",
       "        [1., 1., 1.]])"
      ]
     },
     "execution_count": 46,
     "metadata": {},
     "output_type": "execute_result"
    }
   ],
   "source": [
    "a = torch.ones(3, 2)\n",
    "a_t = torch.transpose(a, 0, 1)\n",
    "a_t"
   ]
  },
  {
   "cell_type": "markdown",
   "id": "190ba670",
   "metadata": {},
   "source": [
    "# Numpy to Torch and back"
   ]
  },
  {
   "cell_type": "code",
   "execution_count": 2,
   "id": "1b73f521",
   "metadata": {},
   "outputs": [
    {
     "data": {
      "text/plain": [
       "array([[0.30874215, 0.59852078, 0.95184235, 0.19163296, 0.6686562 ],\n",
       "       [0.03513675, 0.01994728, 0.16670191, 0.132075  , 0.3364248 ],\n",
       "       [0.19568743, 0.84543262, 0.07012753, 0.0726222 , 0.13096798],\n",
       "       [0.844013  , 0.51356337, 0.04756374, 0.67110241, 0.27020986],\n",
       "       [0.58354245, 0.79105487, 0.54091374, 0.0461449 , 0.70550585]])"
      ]
     },
     "execution_count": 2,
     "metadata": {},
     "output_type": "execute_result"
    }
   ],
   "source": [
    "import numpy as np\n",
    "x=np.random.rand(5,5)\n",
    "x"
   ]
  },
  {
   "cell_type": "code",
   "execution_count": 3,
   "id": "aa758d65",
   "metadata": {},
   "outputs": [
    {
     "data": {
      "text/plain": [
       "tensor([[0.3087, 0.5985, 0.9518, 0.1916, 0.6687],\n",
       "        [0.0351, 0.0199, 0.1667, 0.1321, 0.3364],\n",
       "        [0.1957, 0.8454, 0.0701, 0.0726, 0.1310],\n",
       "        [0.8440, 0.5136, 0.0476, 0.6711, 0.2702],\n",
       "        [0.5835, 0.7911, 0.5409, 0.0461, 0.7055]], dtype=torch.float64)"
      ]
     },
     "execution_count": 3,
     "metadata": {},
     "output_type": "execute_result"
    }
   ],
   "source": [
    "y=torch.from_numpy(x)\n",
    "y"
   ]
  },
  {
   "cell_type": "code",
   "execution_count": 4,
   "id": "b82fe005",
   "metadata": {},
   "outputs": [
    {
     "data": {
      "text/plain": [
       "array([[0.30874215, 0.59852078, 0.95184235, 0.19163296, 0.6686562 ],\n",
       "       [0.03513675, 0.01994728, 0.16670191, 0.132075  , 0.3364248 ],\n",
       "       [0.19568743, 0.84543262, 0.07012753, 0.0726222 , 0.13096798],\n",
       "       [0.844013  , 0.51356337, 0.04756374, 0.67110241, 0.27020986],\n",
       "       [0.58354245, 0.79105487, 0.54091374, 0.0461449 , 0.70550585]])"
      ]
     },
     "execution_count": 4,
     "metadata": {},
     "output_type": "execute_result"
    }
   ],
   "source": [
    "y.numpy()"
   ]
  },
  {
   "cell_type": "markdown",
   "id": "614c19d2",
   "metadata": {},
   "source": [
    "The memory is shared between the Numpy array and Torch tensor, so if you change the values in-place of one object, the other will change as well."
   ]
  },
  {
   "cell_type": "code",
   "execution_count": 5,
   "id": "a4b0c540",
   "metadata": {},
   "outputs": [
    {
     "data": {
      "text/plain": [
       "tensor([[0.9262, 1.7956, 2.8555, 0.5749, 2.0060],\n",
       "        [0.1054, 0.0598, 0.5001, 0.3962, 1.0093],\n",
       "        [0.5871, 2.5363, 0.2104, 0.2179, 0.3929],\n",
       "        [2.5320, 1.5407, 0.1427, 2.0133, 0.8106],\n",
       "        [1.7506, 2.3732, 1.6227, 0.1384, 2.1165]], dtype=torch.float64)"
      ]
     },
     "execution_count": 5,
     "metadata": {},
     "output_type": "execute_result"
    }
   ],
   "source": [
    "y.mul_(3)"
   ]
  },
  {
   "cell_type": "code",
   "execution_count": 6,
   "id": "320f56b3",
   "metadata": {},
   "outputs": [
    {
     "data": {
      "text/plain": [
       "array([[0.92622645, 1.79556234, 2.85552704, 0.57489888, 2.0059686 ],\n",
       "       [0.10541025, 0.05984185, 0.50010572, 0.39622499, 1.0092744 ],\n",
       "       [0.5870623 , 2.53629785, 0.2103826 , 0.21786661, 0.39290395],\n",
       "       [2.53203901, 1.54069011, 0.14269123, 2.01330722, 0.81062957],\n",
       "       [1.75062734, 2.37316462, 1.62274121, 0.13843471, 2.11651755]])"
      ]
     },
     "execution_count": 6,
     "metadata": {},
     "output_type": "execute_result"
    }
   ],
   "source": [
    "x"
   ]
  },
  {
   "cell_type": "code",
   "execution_count": null,
   "id": "6cd5ebbb",
   "metadata": {},
   "outputs": [],
   "source": []
  }
 ],
 "metadata": {
  "kernelspec": {
   "display_name": "Python 3 (ipykernel)",
   "language": "python",
   "name": "python3"
  },
  "language_info": {
   "codemirror_mode": {
    "name": "ipython",
    "version": 3
   },
   "file_extension": ".py",
   "mimetype": "text/x-python",
   "name": "python",
   "nbconvert_exporter": "python",
   "pygments_lexer": "ipython3",
   "version": "3.9.12"
  }
 },
 "nbformat": 4,
 "nbformat_minor": 5
}
